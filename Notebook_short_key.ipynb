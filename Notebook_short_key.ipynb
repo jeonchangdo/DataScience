{
 "cells": [
  {
   "cell_type": "markdown",
   "metadata": {},
   "source": [
    "# 마크다운 \n",
    "## 마크다운은 노트북에서 실행하지 않고 설명할 때 사용하는 기능\n",
    "### 주피터 노트북 단축키를 설명합니다.\n",
    "#### *헤더*\n",
    "\n",
    "\n"
   ]
  },
  {
   "cell_type": "markdown",
   "metadata": {},
   "source": [
    "### 1 셀 선택모드 (esc 또는 ctrl+m)에서 사용할 수 있는 단축키 - 셀 테두리가 파란색\n",
    "\n",
    "- 위로 셀 추가 [a]\n",
    "- 아래로 셀 추가 [b]\n",
    "- 선택 셀 삭제 [d][d] (d를 두번누름)\n",
    "- 선택 셀 잘라내기(삭제로 써도 무방) [x]\n",
    "- 선택 셀 복사하기 [c]\n",
    "- 선택 셀 아래에 붙여 넣기 [p]\n",
    "- 선택 셀과 아래 셀 합치기 [shift] + [m]\n",
    "- 코드 입력일 때 실행 결과 열기/닫기 [o]\n",
    "- Markdown으로변경 [m]\n",
    "- Code로 변경 [y]\n",
    "- 저장 [ctrl] + [s] or [s]\n",
    "- 선택 셀의 코드 입력모드 [enter]\n",
    "\n"
   ]
  },
  {
   "cell_type": "markdown",
   "metadata": {},
   "source": [
    "### 2 코드 입력모드(Edit Mode)에서 사용하는 단축키\n",
    "### Edit Mode : enter를 눌러 셀이 초록색이 된 상태\n",
    "\n",
    "- 편집셀의 코드 전체 선택 [ctrl] + [a]\n",
    "- 편집셀 내 실행 취소 [ctrl] + [z]\n",
    "- 편집셀 내 다시 실행 [ctrl] + [y]\n",
    "- 커서 위치한 라인 주석처리 [ctrl] + [/]\n",
    "- 편집 중인 셀 코드 실행 [ctrl] + [enter]\n",
    "- 편집 중인 셀 코드 실행 후 다음셀로 이동(다움 셀이 없으면 새로 추가) [shift] + [enter]\n",
    "- 커서 위치에서 셀 둘로 나누기 [shift] + [ctrl] + [-]\n",
    "- 파일 저장 [ctrl] + [s]\n",
    "- 셀 선택 모드로 돌아가기 [esc] or [ctrl] + [m]"
   ]
  },
  {
   "cell_type": "code",
   "execution_count": 1,
   "metadata": {},
   "outputs": [
    {
     "name": "stdout",
     "output_type": "stream",
     "text": [
      "1\n"
     ]
    }
   ],
   "source": [
    "a = 1\n",
    "print(a)"
   ]
  },
  {
   "cell_type": "code",
   "execution_count": null,
   "metadata": {},
   "outputs": [],
   "source": [
    "b = 3\n",
    "print(b)"
   ]
  },
  {
   "cell_type": "code",
   "execution_count": null,
   "metadata": {},
   "outputs": [],
   "source": []
  }
 ],
 "metadata": {
  "kernelspec": {
   "display_name": "Python 3",
   "language": "python",
   "name": "python3"
  },
  "language_info": {
   "codemirror_mode": {
    "name": "ipython",
    "version": 3
   },
   "file_extension": ".py",
   "mimetype": "text/x-python",
   "name": "python",
   "nbconvert_exporter": "python",
   "pygments_lexer": "ipython3",
   "version": "3.8.5"
  }
 },
 "nbformat": 4,
 "nbformat_minor": 4
}
