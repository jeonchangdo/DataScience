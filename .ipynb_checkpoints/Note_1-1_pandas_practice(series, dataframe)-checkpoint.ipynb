{
 "cells": [
  {
   "cell_type": "markdown",
   "metadata": {},
   "source": [
    "# 판다스 기초\n",
    "\n",
    "## 목차\n",
    "## 판다스 설명\n",
    "\n",
    "## 시리즈\n",
    "- 시리즈 설명\n",
    "- 시리즈 만들기\n",
    "- 시리즈 인덱싱\n",
    "- 시리즈와 딕셔너리\n",
    "\n",
    "## 데이터 프레임\n",
    "- 데이터 프레임 설명\n",
    "- 데이트 프레임 만들기\n",
    "- 연습문제2 (데이터 \\프레임 만들기)\n",
    "- 데이터 프레임 내용 변경 : 열추가, 삭제, 갱신\n",
    "- 인덱싱\n",
    "- 연습문제3"
   ]
  },
  {
   "cell_type": "markdown",
   "metadata": {},
   "source": [
    "### pandas\n",
    "\n",
    "- Series, DataFrame 등의 자료구조를 활용한 데이터 분석과 관련된 기능을 제공해 주는 라이브러리\n",
    "\n",
    "### pandas 라이브러리 구성\n",
    "- 여러종류의 기능을 구현한 클래스와 내장함수로 구성\n",
    "- Series, DataFrame 이라는 구조 표현 클래스 객체\n",
    "- 자주 사용되는 내장 함수 : Series(), DataFrame(), read_csv(), read_exel() 등\n",
    "\n",
    "### Series vs DataFrame\n",
    "- Series : 1차원 배열\n",
    "- DataFrame : 2차원 배열\n",
    "\n",
    "## 판다스 사용 목적\n",
    "- 서로 다른 여러가지 유형의 데이터를 공통의 포맷으로 정리하는 것\n",
    "- 데이터 프레임을 분석실무에서 자주 사용\n",
    "\n",
    "### 사용하려면 import 해야함\n",
    "\n"
   ]
  },
  {
   "cell_type": "markdown",
   "metadata": {},
   "source": [
    "### 시리즈\n",
    "- 데이터가 순차적으로 나열된 1차원 배열의 형태로\n",
    "- 인덱스(index)와 데이터 값(value)이 일대일로 대응\n",
    "- 딕셔너리와 비슷한 구조 : {key:value}\n",
    "    \n",
    "### 시리즈의 인덱스\n",
    "- 데이터 값의 위치를 나타내는 이름표(데이터주소) 역할\n",
    "- 예로 'index2'라는 주소를 알고 있다면 'data2'라는 원소 데이터 값에 바로 접근가능\n",
    "\n",
    "\n",
    "### 시리즈 민들기"
   ]
  },
  {
   "cell_type": "code",
   "execution_count": 1,
   "metadata": {},
   "outputs": [],
   "source": [
    "# pandas 패키지 불러오기\n",
    "import pandas as pd\n",
    "import numpy as np"
   ]
  },
  {
   "cell_type": "code",
   "execution_count": 2,
   "metadata": {},
   "outputs": [
    {
     "data": {
      "text/plain": [
       "0    1\n",
       "1    2\n",
       "2    3\n",
       "dtype: int64"
      ]
     },
     "execution_count": 2,
     "metadata": {},
     "output_type": "execute_result"
    }
   ],
   "source": [
    "# 시리즈 만들기 : Series() 함수 사용\n",
    "# 리스트, 딕셔너리, 튜플 형태의 데이터를 구성 후 Series()\n",
    "# 1. 리스트 이용해서 시리즈 만들기\n",
    "s = pd.Series([1,2,3])\n",
    "s # 인덱스 : 0부터 시작하는 정수값으로 자동 지정"
   ]
  },
  {
   "cell_type": "code",
   "execution_count": 6,
   "metadata": {},
   "outputs": [
    {
     "data": {
      "text/plain": [
       "0    1.0\n",
       "1    3.0\n",
       "2    5.0\n",
       "3    NaN\n",
       "4    6.0\n",
       "5    8.0\n",
       "dtype: float64"
      ]
     },
     "execution_count": 6,
     "metadata": {},
     "output_type": "execute_result"
    }
   ],
   "source": [
    "# 결측값 포함해서 시리즈 만들기\n",
    "# numpy 피키지의 nan 이라는 내부 변수는 결측값을 표현\n",
    "s = pd.Series([1,3,5,np.nan,6,8])\n",
    "s"
   ]
  },
  {
   "cell_type": "code",
   "execution_count": 7,
   "metadata": {},
   "outputs": [
    {
     "data": {
      "text/plain": [
       "1    10\n",
       "2    20\n",
       "3    30\n",
       "dtype: int64"
      ]
     },
     "execution_count": 7,
     "metadata": {},
     "output_type": "execute_result"
    }
   ],
   "source": [
    "# 숫자 인덱스 지정\n",
    "# index = []\n",
    "s = pd.Series([10,20,30], index=[1,2,3])\n",
    "s"
   ]
  },
  {
   "cell_type": "code",
   "execution_count": 8,
   "metadata": {},
   "outputs": [
    {
     "data": {
      "text/plain": [
       "홍길동     95\n",
       "이몽룡    100\n",
       "성춘향     88\n",
       "dtype: int64"
      ]
     },
     "execution_count": 8,
     "metadata": {},
     "output_type": "execute_result"
    }
   ],
   "source": [
    "# 문자 인덱스 지정\n",
    "s = pd.Series([95,100,88], index=['홍길동','이몽룡','성춘향'])\n",
    "s"
   ]
  },
  {
   "cell_type": "code",
   "execution_count": 11,
   "metadata": {},
   "outputs": [
    {
     "data": {
      "text/plain": [
       "서울      237849\n",
       "부산    23894023\n",
       "인천      238940\n",
       "대구      238904\n",
       "dtype: int64"
      ]
     },
     "execution_count": 11,
     "metadata": {},
     "output_type": "execute_result"
    }
   ],
   "source": [
    "# 문자 인덱스 지정 2\n",
    "[237849,23894023,238940,238904]\n",
    "# 위 리스트를 이용해서 시리즈를 구성하고 인덱스는 서울, 부산, 인천, 대구로 설정하시오\n",
    "s = pd.Series([237849,23894023,238940,238904], index=['서울','부산','인천','대구'])\n",
    "s"
   ]
  },
  {
   "cell_type": "code",
   "execution_count": 12,
   "metadata": {},
   "outputs": [
    {
     "data": {
      "text/plain": [
       "0    10\n",
       "1    11\n",
       "2    12\n",
       "3    13\n",
       "dtype: int64"
      ]
     },
     "execution_count": 12,
     "metadata": {},
     "output_type": "execute_result"
    }
   ],
   "source": [
    "# range() 함수로 시리즈 만들기\n",
    "pd.Series(range(10,14))\n"
   ]
  },
  {
   "cell_type": "code",
   "execution_count": 13,
   "metadata": {},
   "outputs": [
    {
     "data": {
      "text/plain": [
       "Index(['서울', '부산', '인천', '대구'], dtype='object')"
      ]
     },
     "execution_count": 13,
     "metadata": {},
     "output_type": "execute_result"
    }
   ],
   "source": [
    "# 시리즈의 인덱스 확인 : Series 클래스 안에 index라는 변수가 만들어져 있음. \n",
    "# index 속성을 이용해서 관련 index 확인가능\n",
    "# 시리즈 객체의 index 속성으로 객체명.index\n",
    "s.index\n"
   ]
  },
  {
   "cell_type": "code",
   "execution_count": 14,
   "metadata": {},
   "outputs": [
    {
     "data": {
      "text/plain": [
       "array([  237849, 23894023,   238940,   238904], dtype=int64)"
      ]
     },
     "execution_count": 14,
     "metadata": {},
     "output_type": "execute_result"
    }
   ],
   "source": [
    "# 시리즈의 값은 1차원 배열이고 values 속성으로 접근 할 수 있다.\n",
    "s.values # array"
   ]
  },
  {
   "cell_type": "code",
   "execution_count": 15,
   "metadata": {},
   "outputs": [
    {
     "data": {
      "text/plain": [
       "서울      237849\n",
       "부산    23894023\n",
       "인천      238940\n",
       "대구      238904\n",
       "Name: 인구, dtype: int64"
      ]
     },
     "execution_count": 15,
     "metadata": {},
     "output_type": "execute_result"
    }
   ],
   "source": [
    "# name 속성을 이용하여 시리즈 데이터에 이름을 붙일 수 있다.\n",
    "s.name = '인구'\n",
    "s"
   ]
  },
  {
   "cell_type": "code",
   "execution_count": 16,
   "metadata": {},
   "outputs": [
    {
     "data": {
      "text/plain": [
       "도시\n",
       "서울      237849\n",
       "부산    23894023\n",
       "인천      238940\n",
       "대구      238904\n",
       "Name: 인구, dtype: int64"
      ]
     },
     "execution_count": 16,
     "metadata": {},
     "output_type": "execute_result"
    }
   ],
   "source": [
    "# 시리즈 인덱스에도 이름을 붙일 수 있다.\n",
    "# 객체.index.name\n",
    "s.index.name = '도시'\n",
    "s\n",
    "\n"
   ]
  },
  {
   "cell_type": "markdown",
   "metadata": {},
   "source": [
    "### 시리즈 인덱싱\n",
    "- 인덱싱(indexing) : 데이터에서 특정한 세부 데이터만 접근해서 값을 반환 받는 것\n",
    "### 시리즈 인덱싱 종류\n",
    "1. 정수형 위치 인덱스\n",
    "2. 인덱스 이름 또는 인덱스 라벨 문자형 인덱스\n",
    "\n",
    "- 인덱스를 별도로 정의하지 않으면 0부터 시작하는 디폴트 정수형 위치 인덱스가 자동 지정\n",
    "\n",
    "### 원소 선택\n",
    "- 인덱스를 이용 객체명[인덱스]"
   ]
  },
  {
   "cell_type": "code",
   "execution_count": 18,
   "metadata": {},
   "outputs": [
    {
     "data": {
      "text/plain": [
       "237849"
      ]
     },
     "execution_count": 18,
     "metadata": {},
     "output_type": "execute_result"
    }
   ],
   "source": [
    "# 정수형 위치 인덱스를 사용한 인덱싱\n",
    "s[0]"
   ]
  },
  {
   "cell_type": "code",
   "execution_count": 21,
   "metadata": {},
   "outputs": [
    {
     "data": {
      "text/plain": [
       "(238904, 238904)"
      ]
     },
     "execution_count": 21,
     "metadata": {},
     "output_type": "execute_result"
    }
   ],
   "source": [
    "# 라벨형 인덱스 설정한 경우 라벨을 이용해서도 접근 가능\n",
    "s[3], s['대구']"
   ]
  },
  {
   "cell_type": "code",
   "execution_count": 22,
   "metadata": {},
   "outputs": [
    {
     "data": {
      "text/plain": [
       "도시\n",
       "서울      237849\n",
       "대구      238904\n",
       "부산    23894023\n",
       "Name: 인구, dtype: int64"
      ]
     },
     "execution_count": 22,
     "metadata": {},
     "output_type": "execute_result"
    }
   ],
   "source": [
    "# 인덱싱을 값 하나가 아닌 여러 값으로 할 수 있음\n",
    "# 리스트형 인덱싱을 하면 자료의 순서를 바꾸거나 특정한 자료만 선택할 수 있다.\n",
    "s[[0,3,1]]"
   ]
  },
  {
   "cell_type": "code",
   "execution_count": 26,
   "metadata": {},
   "outputs": [
    {
     "data": {
      "text/plain": [
       "도시\n",
       "서울    237849\n",
       "Name: 인구, dtype: int64"
      ]
     },
     "execution_count": 26,
     "metadata": {},
     "output_type": "execute_result"
    }
   ],
   "source": [
    "# 리스트형 인덱싱을 했을 때 반호나 결과의 타입확인 : 시리즈 구조\n",
    "# 하나의 요소 익덱싱을 햇을 때 반환 결과의 타입 확인 : 접근한 value의 타입으로 반환\n",
    "# type(s[0])\n",
    "type(s[[0]])\n",
    "s[[0]]"
   ]
  },
  {
   "cell_type": "code",
   "execution_count": 25,
   "metadata": {},
   "outputs": [
    {
     "data": {
      "text/plain": [
       "도시\n",
       "서울      237849\n",
       "대구      238904\n",
       "부산    23894023\n",
       "Name: 인구, dtype: int64"
      ]
     },
     "execution_count": 25,
     "metadata": {},
     "output_type": "execute_result"
    }
   ],
   "source": [
    "# 인덱스 라벨을 사용하여 특정자료의 집합을 선택(순서변경)\n",
    "s[['서울','대구','부산']]"
   ]
  },
  {
   "cell_type": "code",
   "execution_count": 27,
   "metadata": {},
   "outputs": [
    {
     "data": {
      "text/plain": [
       "도시\n",
       "부산    23894023\n",
       "인천      238940\n",
       "Name: 인구, dtype: int64"
      ]
     },
     "execution_count": 27,
     "metadata": {},
     "output_type": "execute_result"
    }
   ],
   "source": [
    "# 슬라이싱을 이용한 인덱싱\n",
    "# 정수형 위치인 인덱시를 사용한 슬라이싱\n",
    "s[1:3] #[서울 부산 인천 대구] 2번째 3번째"
   ]
  },
  {
   "cell_type": "code",
   "execution_count": 28,
   "metadata": {},
   "outputs": [
    {
     "data": {
      "text/plain": [
       "도시\n",
       "부산    23894023\n",
       "인천      238940\n",
       "대구      238904\n",
       "Name: 인구, dtype: int64"
      ]
     },
     "execution_count": 28,
     "metadata": {},
     "output_type": "execute_result"
    }
   ],
   "source": [
    "# 인덱스 라벨을 사용한 슬라이싱\n",
    "s['부산':'대구'] # 부산 ~ 대구까지 추출"
   ]
  },
  {
   "cell_type": "code",
   "execution_count": 32,
   "metadata": {},
   "outputs": [
    {
     "data": {
      "text/plain": [
       "apple     0\n",
       "banana    1\n",
       "pine      2\n",
       "dtype: int64"
      ]
     },
     "execution_count": 32,
     "metadata": {},
     "output_type": "execute_result"
    }
   ],
   "source": [
    "#\n",
    "s0 = pd.Series(range(3), index = ['apple','banana','pine'])\n",
    "s0"
   ]
  },
  {
   "cell_type": "code",
   "execution_count": 34,
   "metadata": {},
   "outputs": [
    {
     "data": {
      "text/plain": [
       "0"
      ]
     },
     "execution_count": 34,
     "metadata": {},
     "output_type": "execute_result"
    }
   ],
   "source": [
    "# 라벨값이 영문 문자열인 경우 마치 속성인것처럼 사용할 수 있다. '.' 연산자를 사용하여 접근가능\n",
    "s0.apple"
   ]
  },
  {
   "cell_type": "markdown",
   "metadata": {},
   "source": [
    "### 시리즈와 딕셔너리 자료형\n",
    "시리즈 객체는 라벨 값에 의해 인덱싱이 가능하므로 실질적으로 라벨 값을 키(key)로 가지는 딕셔너리 자료형과 같다고 볼 수 있다.\n",
    "\n",
    "따라서 딕셔너리 자료형에서 제공하는 in연산도 가능하고\n",
    "item 메소드를 사용하면 for 루프를 통해 각 원소의 키(key)와 값(value)을 접근할 수도 있다."
   ]
  },
  {
   "cell_type": "code",
   "execution_count": 36,
   "metadata": {},
   "outputs": [
    {
     "data": {
      "text/plain": [
       "True"
      ]
     },
     "execution_count": 36,
     "metadata": {},
     "output_type": "execute_result"
    }
   ],
   "source": [
    "'서울' in s"
   ]
  },
  {
   "cell_type": "code",
   "execution_count": 37,
   "metadata": {},
   "outputs": [
    {
     "data": {
      "text/plain": [
       "False"
      ]
     },
     "execution_count": 37,
     "metadata": {},
     "output_type": "execute_result"
    }
   ],
   "source": [
    "'대전' in s"
   ]
  },
  {
   "cell_type": "code",
   "execution_count": 40,
   "metadata": {},
   "outputs": [
    {
     "name": "stdout",
     "output_type": "stream",
     "text": [
      "서울 = 237849\n",
      "부산 = 23894023\n",
      "인천 = 238940\n",
      "대구 = 238904\n"
     ]
    }
   ],
   "source": [
    "s.items()\n",
    "for k,v in s.items() :\n",
    "    print('%s = %d' % (k,v))"
   ]
  },
  {
   "cell_type": "markdown",
   "metadata": {},
   "source": [
    "### 딕셔너리로 시리즈 만들기\n",
    "- 딕셔너리와 시리즈의 구조가 비슷하기 때문에\n",
    "- 딕셔너리를 시리즈로 변환하는 방법 많이 사용\n",
    "- Series()로 만들고 딕셔너리를 함수의 인자로 전달\n",
    "\n",
    "딕셔너리의 key는 시리즈의 인덱스에 대응되고\n",
    "딕셔너리의 value는 시리즈의 데이터 값으로 변환"
   ]
  },
  {
   "cell_type": "code",
   "execution_count": 42,
   "metadata": {},
   "outputs": [
    {
     "data": {
      "text/plain": [
       "홍길동     95\n",
       "이몽룡    100\n",
       "성춘향     88\n",
       "dtype: int64"
      ]
     },
     "execution_count": 42,
     "metadata": {},
     "output_type": "execute_result"
    }
   ],
   "source": [
    "# 딕셔너리로 시리즈 만들기\n",
    "scores = {'홍길동' : 95, '이몽룡':100, '성춘향':88}\n",
    "s = pd.Series(scores)\n",
    "s"
   ]
  },
  {
   "cell_type": "code",
   "execution_count": 49,
   "metadata": {},
   "outputs": [
    {
     "data": {
      "text/plain": [
       "부산    23894023\n",
       "서울      237849\n",
       "인천      238940\n",
       "대구      238904\n",
       "dtype: int64"
      ]
     },
     "execution_count": 49,
     "metadata": {},
     "output_type": "execute_result"
    }
   ],
   "source": [
    "# 위쪽에서 생성된 도시의 리스트를 참고하여 딕셔너리로 구성하고\n",
    "# 해당 딕셔너리를 시리즈 s2로 만드시오.\n",
    "# 딕셔너리의 원소는 순서를 가지지 않으므로\n",
    "# 만약 순서를 정하고 싶다면 인덱스를 리스트로 지정해야 한다.\n",
    "s = pd.Series({\"서울\" : 237849, \"부산\" : 23894023, \"인천\" : 238940, \"대구\" : 238904})\n",
    "s # 순서가 없는 시리즈\n",
    "\n",
    "s2 = pd.Series({\"서울\" : 237849, \"부산\" : 23894023, \"인천\" : 238940, \"대구\" : 238904}, index=['부산', '서울', '인천', '대구'])\n",
    "s2"
   ]
  },
  {
   "cell_type": "code",
   "execution_count": 50,
   "metadata": {},
   "outputs": [
    {
     "data": {
      "text/plain": [
       "23894023"
      ]
     },
     "execution_count": 50,
     "metadata": {},
     "output_type": "execute_result"
    }
   ],
   "source": [
    "s2[0]"
   ]
  },
  {
   "cell_type": "markdown",
   "metadata": {},
   "source": [
    "### 시리즈 데이터 갱신, 추가, 삭제\n",
    "- 딕셔너리 인덱싱을 이용하면 데이터를 갱신하거나 추가할 수 있다"
   ]
  },
  {
   "cell_type": "code",
   "execution_count": 51,
   "metadata": {},
   "outputs": [
    {
     "data": {
      "text/plain": [
       "부산    1630000\n",
       "서울     237849\n",
       "인천     238940\n",
       "대구     238904\n",
       "dtype: int64"
      ]
     },
     "execution_count": 51,
     "metadata": {},
     "output_type": "execute_result"
    }
   ],
   "source": [
    "# s2 시리즈의 부산 데이터 변경 \n",
    "s2['부산'] = 1630000\n",
    "s2\n"
   ]
  },
  {
   "cell_type": "code",
   "execution_count": 52,
   "metadata": {},
   "outputs": [
    {
     "data": {
      "text/plain": [
       "부산    1630000\n",
       "서울     237849\n",
       "인천     238940\n",
       "대구     238904\n",
       "울산     900000\n",
       "dtype: int64"
      ]
     },
     "execution_count": 52,
     "metadata": {},
     "output_type": "execute_result"
    }
   ],
   "source": [
    "# 데이터 추가\n",
    "s2['울산'] = 900000\n",
    "s2"
   ]
  },
  {
   "cell_type": "code",
   "execution_count": 53,
   "metadata": {},
   "outputs": [
    {
     "data": {
      "text/plain": [
       "부산    1630000\n",
       "인천     238940\n",
       "대구     238904\n",
       "울산     900000\n",
       "dtype: int64"
      ]
     },
     "execution_count": 53,
     "metadata": {},
     "output_type": "execute_result"
    }
   ],
   "source": [
    "# 데이터 삭제 - del 명령사용\n",
    "del s2['서울']\n",
    "s2"
   ]
  },
  {
   "cell_type": "markdown",
   "metadata": {},
   "source": [
    "### 연습문제\n",
    "- 임의로 두개의 시리즈 객체를 만든다\n",
    "- 첫번째 시리즈는 리스트를 이용\n",
    "- 두번째 시리즈는 딕셔너리를 이용\n",
    "- 두 객체 모두 문자열 인덱스를 가져야 하고, 두 시리즈에 공통적으로 포함하지 않는 라벨이 있어야 한다."
   ]
  },
  {
   "cell_type": "code",
   "execution_count": 59,
   "metadata": {},
   "outputs": [
    {
     "data": {
      "text/plain": [
       "홍길동     95\n",
       "이몽룡    100\n",
       "성춘향     88\n",
       "dtype: int64"
      ]
     },
     "execution_count": 59,
     "metadata": {},
     "output_type": "execute_result"
    }
   ],
   "source": [
    "# # 리스트로 시리즈 만들기\n",
    "# s1 = pd.Series([50,40,60], index=['전창도','이영희','전순호'])\n",
    "# s1\n",
    "\n",
    "# # 딕셔너리로 시리즈 만들기\n",
    "# scores = {'홍길동' : 95, '이몽룡':100, '성춘향':88}\n",
    "# s2 = pd.Series(scores)\n",
    "# s2"
   ]
  },
  {
   "cell_type": "markdown",
   "metadata": {},
   "source": [
    "### 데이터프레임\n",
    "- 2차원 행렬 데이터에 인덱스를 붙인 것\n",
    "- 행과 열로 만들어지는 2차원 배열구조\n",
    "- R의 데이터프레임에서 유래\n",
    "- 데이터프레임의 열은 각각 시리즈 객체로 이루어져 있음\n",
    "- DataFrame() 함수를 이용하여 데이터프레임 생성"
   ]
  },
  {
   "cell_type": "code",
   "execution_count": 62,
   "metadata": {},
   "outputs": [
    {
     "data": {
      "text/html": [
       "<div>\n",
       "<style scoped>\n",
       "    .dataframe tbody tr th:only-of-type {\n",
       "        vertical-align: middle;\n",
       "    }\n",
       "\n",
       "    .dataframe tbody tr th {\n",
       "        vertical-align: top;\n",
       "    }\n",
       "\n",
       "    .dataframe thead th {\n",
       "        text-align: right;\n",
       "    }\n",
       "</style>\n",
       "<table border=\"1\" class=\"dataframe\">\n",
       "  <thead>\n",
       "    <tr style=\"text-align: right;\">\n",
       "      <th></th>\n",
       "      <th>0</th>\n",
       "    </tr>\n",
       "  </thead>\n",
       "  <tbody>\n",
       "    <tr>\n",
       "      <th>0</th>\n",
       "      <td>a</td>\n",
       "    </tr>\n",
       "    <tr>\n",
       "      <th>1</th>\n",
       "      <td>b</td>\n",
       "    </tr>\n",
       "    <tr>\n",
       "      <th>2</th>\n",
       "      <td>c</td>\n",
       "    </tr>\n",
       "  </tbody>\n",
       "</table>\n",
       "</div>"
      ],
      "text/plain": [
       "   0\n",
       "0  a\n",
       "1  b\n",
       "2  c"
      ]
     },
     "execution_count": 62,
     "metadata": {},
     "output_type": "execute_result"
    }
   ],
   "source": [
    "# 리스트로 데이터 프레임 만들기\n",
    "df = pd.DataFrame(['a','b','c']) # 열 1개인 df가 생성\n",
    "df"
   ]
  },
  {
   "cell_type": "code",
   "execution_count": 65,
   "metadata": {},
   "outputs": [
    {
     "data": {
      "text/html": [
       "<div>\n",
       "<style scoped>\n",
       "    .dataframe tbody tr th:only-of-type {\n",
       "        vertical-align: middle;\n",
       "    }\n",
       "\n",
       "    .dataframe tbody tr th {\n",
       "        vertical-align: top;\n",
       "    }\n",
       "\n",
       "    .dataframe thead th {\n",
       "        text-align: right;\n",
       "    }\n",
       "</style>\n",
       "<table border=\"1\" class=\"dataframe\">\n",
       "  <thead>\n",
       "    <tr style=\"text-align: right;\">\n",
       "      <th></th>\n",
       "      <th>0</th>\n",
       "      <th>1</th>\n",
       "      <th>2</th>\n",
       "    </tr>\n",
       "  </thead>\n",
       "  <tbody>\n",
       "    <tr>\n",
       "      <th>0</th>\n",
       "      <td>a,</td>\n",
       "      <td>b</td>\n",
       "      <td>c</td>\n",
       "    </tr>\n",
       "    <tr>\n",
       "      <th>1</th>\n",
       "      <td>a</td>\n",
       "      <td>a</td>\n",
       "      <td>g</td>\n",
       "    </tr>\n",
       "    <tr>\n",
       "      <th>2</th>\n",
       "      <td>a</td>\n",
       "      <td>i</td>\n",
       "      <td>j</td>\n",
       "    </tr>\n",
       "  </tbody>\n",
       "</table>\n",
       "</div>"
      ],
      "text/plain": [
       "    0  1  2\n",
       "0  a,  b  c\n",
       "1   a  a  g\n",
       "2   a  i  j"
      ]
     },
     "execution_count": 65,
     "metadata": {},
     "output_type": "execute_result"
    }
   ],
   "source": [
    "# 리스트로 데이터 프레임 만들기 2\n",
    "df = pd.DataFrame([['a,','b','c'],['a','a','g'],['a','i','j']])\n",
    "df\n",
    "# df는 행이름 열이름이 반드시 있어야 하기 때문에 설정하지 않으면 자동 생성됨"
   ]
  },
  {
   "cell_type": "code",
   "execution_count": 69,
   "metadata": {},
   "outputs": [
    {
     "data": {
      "text/html": [
       "<div>\n",
       "<style scoped>\n",
       "    .dataframe tbody tr th:only-of-type {\n",
       "        vertical-align: middle;\n",
       "    }\n",
       "\n",
       "    .dataframe tbody tr th {\n",
       "        vertical-align: top;\n",
       "    }\n",
       "\n",
       "    .dataframe thead th {\n",
       "        text-align: right;\n",
       "    }\n",
       "</style>\n",
       "<table border=\"1\" class=\"dataframe\">\n",
       "  <thead>\n",
       "    <tr style=\"text-align: right;\">\n",
       "      <th></th>\n",
       "      <th>A</th>\n",
       "      <th>B</th>\n",
       "      <th>C</th>\n",
       "    </tr>\n",
       "  </thead>\n",
       "  <tbody>\n",
       "    <tr>\n",
       "      <th>0</th>\n",
       "      <td>a,</td>\n",
       "      <td>a</td>\n",
       "      <td>a</td>\n",
       "    </tr>\n",
       "    <tr>\n",
       "      <th>1</th>\n",
       "      <td>b</td>\n",
       "      <td>a</td>\n",
       "      <td>i</td>\n",
       "    </tr>\n",
       "    <tr>\n",
       "      <th>2</th>\n",
       "      <td>c</td>\n",
       "      <td>g</td>\n",
       "      <td>j</td>\n",
       "    </tr>\n",
       "  </tbody>\n",
       "</table>\n",
       "</div>"
      ],
      "text/plain": [
       "    A  B  C\n",
       "0  a,  a  a\n",
       "1   b  a  i\n",
       "2   c  g  j"
      ]
     },
     "execution_count": 69,
     "metadata": {},
     "output_type": "execute_result"
    }
   ],
   "source": [
    "# 열 인덱스와 행 인덱스를 직접 설정해서 df 생성 - dict를 사용\n",
    "# dict key가 열 이름\n",
    "# index = 매개변수는 행 이름\n",
    "df = pd.DataFrame({'A':['a,','b','c'],\n",
    "                   'B':['a','a','g'],\n",
    "                   'C':['a','i','j']},\n",
    "                 index=[0,1,2])\n",
    "df"
   ]
  }
 ],
 "metadata": {
  "kernelspec": {
   "display_name": "Python 3",
   "language": "python",
   "name": "python3"
  },
  "language_info": {
   "codemirror_mode": {
    "name": "ipython",
    "version": 3
   },
   "file_extension": ".py",
   "mimetype": "text/x-python",
   "name": "python",
   "nbconvert_exporter": "python",
   "pygments_lexer": "ipython3",
   "version": "3.8.5"
  }
 },
 "nbformat": 4,
 "nbformat_minor": 4
}
